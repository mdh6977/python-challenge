{
 "cells": [
  {
   "cell_type": "code",
   "execution_count": 35,
   "id": "d5de671f",
   "metadata": {},
   "outputs": [],
   "source": [
    "import os\n",
    "import csv\n",
    "from pathlib import Path"
   ]
  },
  {
   "cell_type": "code",
   "execution_count": 36,
   "id": "42161301",
   "metadata": {},
   "outputs": [],
   "source": [
    "filepath = Path(\"Desktop/Challenge_3/PyPoll/Resources/election_data.csv\")"
   ]
  },
  {
   "cell_type": "code",
   "execution_count": 37,
   "id": "20c02fc6",
   "metadata": {},
   "outputs": [],
   "source": [
    "total_votes = 0 \n",
    "stockham_votes = 0\n",
    "degette_votes = 0\n",
    "doane_votes = 0"
   ]
  },
  {
   "cell_type": "code",
   "execution_count": 38,
   "id": "ead27dbb",
   "metadata": {},
   "outputs": [],
   "source": [
    "with open(filepath,newline=\"\", encoding=\"utf-8\") as elections:\n",
    "\n",
    "    # Store data under the csvreader variable\n",
    "    csvreader = csv.reader(elections,delimiter=\",\") \n",
    "\n",
    "    # Skip the header so we iterate through the actual values\n",
    "    header = next(csvreader)     \n",
    "\n",
    "    # Iterate through each row in the csv\n",
    "    for row in csvreader: \n",
    "\n",
    "        # Count the unique Voter ID's and store in variable  called total_votes\n",
    "        total_votes +=1\n",
    "\n",
    "        # We have four candidates if the name is found, count the times it appears and store in a list\n",
    "        # We can use this values in our percent vote calculation in the print statements\n",
    "        if row[2] == \"Charles Casper Stockham\": \n",
    "            stockham_votes +=1\n",
    "        elif row[2] == \"Diana DeGette\":\n",
    "            degette_votes +=1\n",
    "        elif row[2] == \"Raymon Anthony Doane\": \n",
    "            doane_votes +=1"
   ]
  },
  {
   "cell_type": "code",
   "execution_count": 39,
   "id": "8d2751a9",
   "metadata": {},
   "outputs": [],
   "source": [
    "candidates = [\"Charles Casper Stockham\", \"Diana DeGette\", \"Anthony Doane\"]\n",
    "votes = [stockham_votes, degette_votes,doane_votes]"
   ]
  },
  {
   "cell_type": "code",
   "execution_count": 40,
   "id": "1ab0818d",
   "metadata": {},
   "outputs": [],
   "source": [
    "dict_candidates_and_votes = dict(zip(candidates,votes))\n",
    "key = max(dict_candidates_and_votes, key=dict_candidates_and_votes.get)"
   ]
  },
  {
   "cell_type": "code",
   "execution_count": 41,
   "id": "cb3d29e9",
   "metadata": {},
   "outputs": [],
   "source": [
    "stockham_percent = (stockham_votes/total_votes) *100\n",
    "degette_percent = (degette_votes/total_votes) * 100\n",
    "doane_percent = (doane_votes/total_votes)* 100"
   ]
  },
  {
   "cell_type": "code",
   "execution_count": 43,
   "id": "102ba937",
   "metadata": {},
   "outputs": [
    {
     "name": "stdout",
     "output_type": "stream",
     "text": [
      "Election Results\n",
      "----------------------------\n",
      "Total Votes: 369711\n",
      "----------------------------\n",
      "Charles Casper Stockham: 23.049% (85213)\n",
      "Diana DeGette: 73.812% (272892)\n",
      "Raymon Anthony Doane: 3.139% (11606)\n",
      "----------------------------\n",
      "Winner: Diana DeGette\n",
      "----------------------------\n"
     ]
    }
   ],
   "source": [
    "print(f\"Election Results\")\n",
    "print(f\"----------------------------\")\n",
    "print(f\"Total Votes: {total_votes}\")\n",
    "print(f\"----------------------------\")\n",
    "print(f\"Charles Casper Stockham: {stockham_percent:.3f}% ({stockham_votes})\")\n",
    "print(f\"Diana DeGette: {degette_percent:.3f}% ({degette_votes})\")\n",
    "print(f\"Raymon Anthony Doane: {doane_percent:.3f}% ({doane_votes})\")\n",
    "print(f\"----------------------------\")\n",
    "print(f\"Winner: {key}\")\n",
    "print(f\"----------------------------\")"
   ]
  },
  {
   "cell_type": "code",
   "execution_count": 44,
   "id": "1d8a37b4",
   "metadata": {},
   "outputs": [],
   "source": [
    "output_file = Path(\"Desktop/Challenge_3/PyPoll/Resources/Election_Results_Summary.txt\")\n",
    "\n",
    "with open(output_file,\"w\") as file:\n",
    "\n",
    "\n",
    "    file.write(f\"Election Results\")\n",
    "    file.write(\"\\n\")\n",
    "    file.write(f\"----------------------------\")\n",
    "    file.write(\"\\n\")\n",
    "    file.write(f\"Total Votes: {total_votes}\")\n",
    "    file.write(\"\\n\")\n",
    "    file.write(f\"----------------------------\")\n",
    "    file.write(\"\\n\")\n",
    "    file.write(f\"Charles Casper Stockham: {stockham_percent:.3f}% ({stockham_votes})\")\n",
    "    file.write(\"\\n\")\n",
    "    file.write(f\"Diana DeGette: {degette_percent:.3f}% ({degette_votes})\")\n",
    "    file.write(\"\\n\")\n",
    "    file.write(f\"Raymon Anthony Doane: {doane_percent:.3f}% ({doane_votes})\")\n",
    "    file.write(\"\\n\")\n",
    "    file.write(f\"----------------------------\")\n",
    "    file.write(\"\\n\")\n",
    "    file.write(f\"Winner: {key}\")\n",
    "    file.write(\"\\n\")\n",
    "    file.write(f\"----------------------------\")"
   ]
  },
  {
   "cell_type": "code",
   "execution_count": null,
   "id": "c2bc3176",
   "metadata": {},
   "outputs": [],
   "source": []
  }
 ],
 "metadata": {
  "kernelspec": {
   "display_name": "Python 3 (ipykernel)",
   "language": "python",
   "name": "python3"
  },
  "language_info": {
   "codemirror_mode": {
    "name": "ipython",
    "version": 3
   },
   "file_extension": ".py",
   "mimetype": "text/x-python",
   "name": "python",
   "nbconvert_exporter": "python",
   "pygments_lexer": "ipython3",
   "version": "3.11.4"
  }
 },
 "nbformat": 4,
 "nbformat_minor": 5
}
